{
 "cells": [
  {
   "cell_type": "markdown",
   "id": "33f19b80",
   "metadata": {},
   "source": [
    "<h1 style=\"color:green;\">Web Scrapping Using Regular Expression in Python:</h1>"
   ]
  },
  {
   "cell_type": "markdown",
   "id": "a8c4eaaa",
   "metadata": {},
   "source": [
    "<h2 style = \"color:blue\">Import log File:</h2>"
   ]
  },
  {
   "cell_type": "code",
   "execution_count": 1,
   "id": "dd22e999",
   "metadata": {},
   "outputs": [
    {
     "data": {
      "text/plain": [
       "'\\n<!DOCTYPE html PUBLIC \"-//W3C//DTD XHTML 1.0 Strict//EN\" \"http://www.w3.org/TR/xhtml1/DTD/xhtml1-strict.dtd\">\\n \\n<html xmlns=\"http://www.w3.org/1999/xhtml\">\\n<head>\\n<meta http-equiv=\"Content-Type\" content=\"text/html; charset=utf-8\" />\\n<meta name=\"keywords\" content=\"University of Karachi, Karachi, Computer Science, Pakistan, University, Best University, Applied Economics Research Centre, Halophtye, ku, uok, karachi university, digital library, dr mahmud husain, results, hej, lej, pcmd, ubit, university, best, chemistry, physics, chemical technology, umaer basha, qaiser, muhammad qaiser, mcn, botanical garden, pharmacy, quaid-e-azam, affiliated, affiliation, sindh, bsc, bcom, ba, result\" />\\n<meta content=\"Welcome to the Official website of University of Karachi, unarguably the most renowned academic institution of Pakistan\"  name=description>\\n<title>University of Karachi : Welcome</title>\\n<!-- // Stylesheets // -->\\n<link href=\"/css/style-original.css\"  rel=\"stylesheet\" type=\"text/css\" />\\n<!-- // JavaScript // -->\\n<script type=\"text/javascript\" src=\"/js/jquery.js\"></script>\\n<script type=\"text/javascript\" src=\"/js/cufon-yui.js\"></script>\\n<script type=\"text/javascript\" src=\"/js/arial.js\"></script>\\n<script type=\"text/javascript\" src=\"/js/chilli.js\"></script>\\n<script type=\"text/javascript\" src=\"/js/cycle.js\"></script>\\n<script type=\"text/javascript\" src=\"/js/functions.js\"></script>\\n<script type=\"text/javascript\" src=\"/js/fancybox.js\"></script>\\n<!--\\n<script type=\"text/javascript\">\\nvar gaJsHost = ((\"https:\" == document.location.protocol) ? \"https://ssl.\" : \"http://www.\");\\ndocument.write(unescape(\"%3Cscript src=\\'\" + gaJsHost + \"google-analytics.com/ga.js\\' type=\\'text/javascript\\'%3E%3C/script%3E\"));\\n</script>\\n<script type=\"text/javascript\">\\nvar pageTracker = _gat._getTracker(\"UA-5050761-1\");\\npageTracker._initData();\\npageTracker._trackPageview();\\n</script>\\n<script type=\"text/javascript\">\\nif (/MSIE (\\\\d+\\\\.\\\\d+);/.test(navigator.userAgent)){ \\n var ieversion=new Number(RegExp.$1) \\n if (ieversion<8)\\n  document.write(\"For best view, kindly update your browser to <a href=http://www.microsoft.com/download/en/details.aspx?id=43\\\\ target=_blank>IE-8</a> or <a href=http://download.cnet.com/windows/browsers/ target=_blank>other</a>\")\\n}\\n</script> -->\\n</head>\\n<body>\\n<html>\\n<div id=\"outer_header\">\\n  <div id=\"header\"> <a href=\"/\"><img src=\"/images/logo.png\" alt=\"\" id=\"logo\" /></a>\\n    <div id=\"right_header\">\\n      <div class=\"top_nav\">\\n        <ul>\\n          <li><a href=\"https://www.google.com/a/uok.edu.pk/ServiceLogin?service=mail&amp;passive=true&amp;rm=false&amp;continue=http%3A//mail.google.com/a/uok.edu.pk/&amp;bsv=1k96igf4806cy&amp;ltmpl=default&amp;ltmplcache=2\" target=\"_blank\" class=\"active\"><span>Email</span></a></li>\\n          <li><a href=\"https://www.facebook.com/kutimes\" target=\"_blank\"><span>Facebook</span></a></li>\\n          <li><a href=\"/credits.php\"><span>MCN</span></a></li>\\n          <li><a href=\"/sitemap.php\"><span>Sitemap</span></a></li>\\n          <li><a href=\"/contacts.php\"><span>Directory</span></a></li>\\n        </ul>\\n      </div>\\n      <h2>Call: (9221) 9926 1300-7</h2>\\n      <div class=\"search\"> <span>\\n        <input type=\"text\" onBlur=\"if(this.value == \\'Enter text to search\\') { this.value = \\'\\'; }\" onFocus=\"if(this.value == \\'Enter text to search\\') { this.value = \\'\\'; }\" value=\"Enter text to search\" />\\n      <a href=\"/search.php\">Search</a></span></div>\\n    </div>\\n    <div id=\"nav\">\\n      <ul>\\n        <li><a href=\"/\"><span>Home</span></a>\\n          <ul>\\n            <li><a href=\"/welcome-address.php\">About Us</a></li>\\n            <li><a href=\"/news.php\">Campus News </a></li>\\n            <li><a href=\"/conv/index.php\"> Convocation</a></li>\\n            <li><a href=\"/downloads/index.php\">Downloads</a></li>\\n            <li><a href=\"/our-history.php\">Our history</a></li>\\n\\t    <li><a href=\"https://kurecruits.com/\">KURECRUITS</a></li>\\n          </ul>\\n        </li>\\n        <li><a href=\"/admissions/index.php\"><span>Admissions</span></a>\\n          <ul>\\n           <!-- <li><a href=\"/admissions/indexeve.php#eve2020\">Morning Test based</a></li>\\n            <li><a href=\"/admissions/indexbmeve.php#bmeve2019\">Bachelors/Masters Evening</a></li>\\n\\t    <li><a href=\"/admissions/indexbmeve.php#eve2021\">Evening Program 2021</a></li> -->            \\n            <li><a href=\"/admissions/index.php#adm2022\">Admissions Program 2022</a></li>\\n\\t    <li> <a href=\"/admissions/pg-index.php\">M.Phil./Ph.D. &amp; M.S./M.D.</a></li>\\n            <li><a href=\"/admissions/intlstudents.php\">International Students</a></li>\\n          </ul>\\n        </li>\\n        <li><a href=\"/faculties/\"><span>Faculties</span></a>\\n          <ul>\\n            <li><a href=\"/faculties/index.php#educ\">Education</a></li>\\n            <li><a href=\"/faculties/index.php#engg\">Engineering</a></li>\\n            <li> <a href=\"/faculties/index.php#isl\">Islamic Studies</a></li>\\n            <li><a href=\"/faculties/index.php#law\">Law</a></li>\\n            <li> <a href=\"/faculties/index.php#mas\">Management Sciences</a></li>\\n            <li><a href=\"/faculties/index.php#med\">Medicine</a></li>\\n            <li> <a href=\"/faculties/index.php#phm\">Pharmacy</a></li>\\n            <li><a href=\"/faculties/index.php#sc\">Science</a></li>\\n            <li><a href=\"/faculties/index.php#arts\">Arts & Social Sciences</a></li>\\n            <li><a href=\"/research_institutes/index.php\">Institutes / Centers</a></li>\\n          </ul>\\n        <a href=\"/research_institutes/index.php\"></a></li>\\n        <li><a href=\"/library/index.php\"><span>Library</span></a>\\n          <ul>\\n            <li><a href=\"/library/index.php\">Home</a></li>\\n            <li><a href=\"/library/dlib.php\">Digital Library</a></li>\\n            <li><a target=\"_blank\" href=\"https://ebookcentral.proquest.com/lib/hec-ebooks/home.action\">Ebrary</a></li>\\n          </ul>\\n        </li>\\n        <li><a href=\"/administration/\"><span>Administration</span></a>\\n         <ul>\\n            <li><a href=\"/administration/vc.php\">Vice Chancellor</a></li>\\n            <li><a href=\"/administration/registrar.php\">Registrar</a></li>\\n            <li><a href=\"/administration/syndicate.php\">Syndicate Members</a></li>\\n            <li><a href=\"/administration/pvcs.php\">Former Vice Chancellors</a></li>\\n            <li><a href=\"/administration/index.php#off\">Directorates &amp; Offices</a> </li>\\n         </ul>\\n        </li>\\n         <li><a href=\"/ann_results/index.php\"><span>Examination</span></a>\\n        <ul>\\n            <li><a href=\"/ann_results/results.php\">Annual System</a></li>\\n            <li><a href=\"/downloads/index.php\">Downloadable Forms </a></li>\\n            <li><a href=\"/ann_results/faqs.php\">Common Questions</a></li>\\n            <li><a href=\"/oe/index.php\">Overseas Examination</a></li>\\n            <li><a href=\"/sem_results/index.php\">Semester System</a></li>\\n            <li><a href=\"/sem_results/rules.php\">Semester Rules Book</a></li>\\n            <li><a href=\"/semesterfees/instructions.php\">Semester Fee</a></li>\\n\\t</ul>\\n    </li>\\n          <li><a href=\"/alumni/index.php\"><span>Alumni</span></a>\\n        </li>\\n      \\n\\t</li>\\n          <li><a href=\"/Journal/index.php\"><span>Journals</span></a>\\n        \\n  </li>\\n\\n</ul>\\n</div>\\n  </div>\\n  <br class=\"clear\" />\\n</div>\\n</html>\\n\\n<script type=\"text/javascript\">\\n        window.setInterval (BlinkIt, 500);\\n        var color = \"#CC0000\";\\n        function BlinkIt () {\\n            var blink = document.getElementById (\"blink\");\\n            color = (color == \"#CC0000\")? \"#447E36\" : \"#CC0000\";\\n            blink.style.color = color;\\n        }\\n</script>\\n\\n<div id=\"outer_banner\">\\n<div id=\"outer_banner_second\">\\n        <div id=\"banner\">\\n            <div id=\"banner_wrapp\">\\n                <div id=\"banner_slider\"> \\n                 <div id=\"banner_images\"><!--<img src=\"images/kmiannconxix.jpg\" alt=\"\" width=\"924\" height=\"296\"/>--><img src=\"images/banner-sjgate.jpg\" alt=\"\" width=\"924\" height=\"296\"/><!--<a href=\"http://ct-set.com/\" target=\"_blank\"><img src=\"images/ctsetbanner.jpg\" alt=\"\" width=\"924\" height=\"296\"/></a>--><a href=\"https://docs.google.com/forms/d/e/1FAIpQLScMGCMcqpKGbQoHP3dWVZJvWEVv-7G2-04z9cxF3mkNWjkMrQ/viewform?usp=send_form\" target=\"_blank\"><img src=\"images/banner-oh.jpg\" alt=\"\" width=\"924\" height=\"296\"/></a><a href=\"http://genetics.uok.edu.pk/\" target=\"_blank\"><img src=\"images/banner4-o.jpg\" alt=\"\" width=\"924\" height=\"296\"/></a><img src=\"images/bannerishu.jpg\" alt=\"\" width=\"924\" height=\"296\"/> <img src=\"images/banner4.jpg\" alt=\"\" /> <img src=\"images/ppl3.jpg\" alt=\"\" /> </div>\\n                  <div id=\"pager\"></div>\\n              </div>\\n            </div>\\n          <div id=\"typo\">\\n          <blockquote><a href=\"/alumni/index.php\">Alumni registration</a>, <a href=\"https://docs.google.com/forms/d/e/1FAIpQLSeWgXom46NLFeqn5KDC6DK_I6pqIdxhLLQ7h03Ke8QCz31Zlw/viewform?c=0&w=1&pli=1\">Official Students\\' Societies</a> <a href=\"https://pk.linkedin.com/pub/university-of-karachi/b8/bbb/986\" target=\"_blank\"><img src=\"https://static.licdn.com/scds/common/u/img/webpromo/btn_in_20x15.png\" width=\"20\" height=\"15\" alt=\"View University of Karachi\\'s LinkedIn profile\" style=\"vertical-align:middle;\" border=\"0\">View UoK\\'s profile</a></blockquote> <a href=\"https://www.facebook.com/kutimes\" target=\"_blank\"><img src=\"alumni/fbt1.jpg\" alt=\"Connect on Facebook\" width=\"85\" height=\"21\"/></a> \\n          <a href=\"https://twitter.com/share\" class=\"twitter-share-button\" data-via=\"infouok\">Tweet</a>\\n<script>!function(d,s,id){var js,fjs=d.getElementsByTagName(s)[0],p=/^http:/.test(d.location)?\\'http\\':\\'https\\';if(!d.getElementById(id)){js=d.createElement(s);js.id=id;js.src=p+\\'://platform.twitter.com/widgets.js\\';fjs.parentNode.insertBefore(js,fjs);}}(document, \\'script\\', \\'twitter-wjs\\');</script>\\n\\n              <!--<span><a href=\"/alumni/index.php\">Read more</a></span>-->\\n              </div>\\n        </div>\\n  </div>\\n</div>\\n<div id=\"outer_news\">\\n    <div id=\"news_scroller\">\\n<div class=\"news_box\">\\n      <h3>Latest</h3>\\n        <div class=\"news_scroll\"><a href=\"/semesterfees/instructions.php\">Semester Fee </a><!-- | <a href=\"/ann_results/docs/2021/abds.pdf\" target=\"_blank\"> B.A Schedule</a> | <a href=\"/ann_results/docs/2021/csbds.pdf\" target=\"_blank\"> B.Sc Schedule</a> | <a href=\"/news/2021/fv.jpg\" target=\"_blank\">Fully Vaccinate (Notification)</span></a> | <a href=\"/news/2021/cnkuii.jpg\" target=\"_blank\"><span id=\"blink\"> UoK Updates</span> </a> | <a href=\"https://docs.google.com/forms/d/e/1FAIpQLSdBXpF_3-jdjW5WJtVf1jZfLT_ooTMvCXrupCLWnw9Sxbwn5g/viewform?vc=0&c=0&w=1&flr=0\" target=\"_blank\"> Students Vaccination Registration</a>| <a href=\"/downloads/ptdv.pdf\" target=\"_blank\">Physical Therapist Required</a><!-- | <a href=\"/news/2022/ctset.pdf\" target=\"_blank\"><span id=\"blink\"><strong>CTSET 2022</strong></span></a><a href=\"http://ct-set.com/\" target=\"_blank\">(website)</a>--> <a href=\"/news/2022/ascevimcc.pdf\" target=\"_blank\"><span id=\"blink\"> </span></a> <span id=\"blink\"></span>\\n                \\n        </div>\\n        \\n   </div> \\n<!--<span class=\"apply_now\"><a href=\"/admissions/index.php#adm2022\" target=\"_blank\"></a> </span><br class=\"clear\" /></span>-->\\n     </div>   \\n              \\n</div>\\n<div id=\"outer_content\">\\n    <div id=\"content\">\\n        <div class=\"latest_courses\">\\n            <h2>Welcome</h2>\\n            <div class=\"text_course\">\\n                <p>At the time of creation of Pakistan as a sovereign state in 1947, means for higher education and research were negligible. Responding to the impending requirement the University of Karachi was established in 1951 :: <a href=\"our-history.php\">Read More</a></p>\\n            </div>\\n        </div>\\n        <div class=\"col_home\">\\n          <div class=\"col_left\">\\n                <div class=\"nav_news\">\\n                    <ul>\\n                        <li class=\"active\"><a href=\"#tab1\">Latest News</a></li>\\n                        <li><a href=\"#tab2\">Latest Results</a></li>\\n                    </ul>\\n                </div>\\n                <div class=\"content_news\" id=\"tab1\">\\n                    <ul>\\n\\t\\t\\t        <li>\\n              <div class=\"news_desc\">\\n                    <h3>New Schedule of Postponed Papers</h3>\\n                    <p>B.A & B.Sc:  <a href=\"/news/2022/bascrsch.jpg\" target=\"_blank\"> Click here </a> (29JUL2022)</p></div>\\n     \\t\\t\\t\\t</li>\\n                    <li>\\n              <div class=\"news_desc\">\\n                    <h3>Associate Degree Annual Fee 2021</h3>\\n                    <p><a href=\"/news/2022/adajxvi.jpg\" target=\"_blank\"> Arts </a> | <a href=\"/news/2022/adcjxvi.jpg\" target=\"_blank\"> Commerce </a> (18JUL2022)</p></div>\\n     \\t\\t\\t\\t</li>                    \\n                    <li>\\n              <div class=\"news_desc\">\\n                    <h3>Revised Schedule (Bye-Election)</h3>\\n                    <p>B.Sc & B.A <a href=\"/news/2022/rdbele.jpg\" target=\"_blank\"> Click here </a> (18JUL2022)</p></div>\\n     \\t\\t\\t\\t</li>\\n                    \\n                    \\n                    \\n                    \\n                    \\n                    \\n                    \\n                    \\n                    \\n                    \\n                    \\n                    \\n                    \\n                    \\n              \\n                    \\n                    \\n                    \\n                                        \\n                    \\n                    \\n                    \\n                    \\n                    \\n                    \\n                    \\n                    \\n                    \\n                    \\n                    \\n                    \\n                    \\n                    \\n                    \\n                     \\n                     \\n                    \\n                    \\n                    \\n                                          \\n                     \\n                    \\n                    \\n                    \\n                    \\n                    \\n                    \\n                    \\n                    \\n                    \\n                    \\n                    \\n                    \\n                    \\n                      \\n                      \\n                      \\n                      \\n                      \\n                      \\n                      \\n                               \\n           \\n           \\n           \\n           \\n           \\n                       \\n                  \\n            \\n             \\n             \\n                                             \\n             \\n                       \\n             </ul>\\n                    <div class=\"more_links\"> <a href=\"/news.php\">Go to News &amp; Events Page &gt;&gt;</a> </div>\\n                </div>\\n                <div class=\"content_news\" id=\"tab2\">\\n                <ul>\\n                     \\n                    <li>\\n                     <div class=\"news_desc\">\\n                     <h3><strong>M.A Annual Exams 2019-2020</strong></h3>\\n                     <p>Ext & Reg: <a href=\"https://uok.edu.pk/ann_results/results.php#y2022\" target=\"_blank\">Pevious&Final</a> (03AUG2022)</p>\\n                     </div>\\n                     </li>\\n                     <li>\\n                     <div class=\"news_desc\">\\n                     <h3><strong>BDS Annual Examination 2022</strong></h3>\\n                     <p>First PRO: <a href=\"/ann_results/docs/2022/bdsipxxii.pdf\" target=\"_blank\"> Click here </a>(26JUL2022)</p>\\n                     </div>\\n                     </li>\\n                     <li>\\n                     <div class=\"news_desc\">\\n                     <h3><strong>MBBS Annual Examination 2022</strong></h3>\\n                     <p><a href=\"/ann_results/docs/2022/mbbsipxxii.pdf\" target=\"_blank\"> 1st PRO</a> | <a href=\"/ann_results/docs/2022/mbbsiipxxii.pdf\" target=\"_blank\"> IInd PRO</a> (22JUL2022)</p>\\n                     </div>\\n                     </li>\\n                     \\n                     \\n                     \\n                     \\n                     \\n                     \\n                     \\n                     \\n                     \\n                     \\n                     \\n                     \\n                     \\n                     \\n                     \\n                     \\n                     \\n                     \\n                     \\n                     \\n                     \\n                                          \\n                     \\n                     \\n                     \\n                    \\n                     \\n                     \\n                     \\n                     \\n                     \\n                     \\n                     \\n                     \\n                     \\n                     \\n                     \\n                     \\n                     \\n                     \\n                     \\n                     \\n                     \\n                     \\n                     \\n                        \\n                           \\n           \\n                      \\n                       \\n                      </ul>\\n                    <div class=\"more_links\">Go to Results &gt;&gt; <a href=\"/ann_results/results.php\">Annual System</a> | <a href=\"/sem_results/results.php\">Semester System</a> </div>\\n                </div>\\n          </div>\\n            <div class=\"col_middle\">\\n                <div class=\"search_course\">\\n                    <div class=\"heading_content\">\\n                        <h2>Departments</h2>\\n                    </div>\\n                    <div class=\"search_box_course\">\\n                        <p>Jump to Departments (A-Z)</p>\\n                        <form name = \"form1\"  method=\"get\" action=\"bty.php\">\\n                        <select name=\"url\" class=\"css\" id=\"url\">\\n                          <option value=\"/faculties/agriculture/index.php\">Agriculture and Agribusiness Mgmnt.</option>\\n          <option value=\"/faculties/appliedchemistry/index.php\">Applied Chemistry &amp; Chemical Tech.</option>\\n          <option value=\"/faculties/appliedphysics/index.php\"  selected=\"selected\">Applied Physics</option>\\n          <option value=\"/faculties/arabic/index.php\">Arabic</option>\\n          <option value=\"/faculties/bengali/index.php\">Bengali</option>\\n          <option value=\"/faculties/biochemistry/index.php\">Biochemistry</option>\\n          <option value=\"/faculties/biotechnology/index.php\">Biotechnology</option>\\n          <option value=\"/faculties/botany/index.php\">Botany</option>\\n          <option value=\"/faculties/businessadministration/index.php\">Business Administration</option>\\n          <option value=\"/faculties/chemicalengineering/index.php\">Chemical Engineering</option>\\n          <option value=\"/faculties/chemistry/index.php\">Chemistry</option>\\n          <option value=\"/faculties/commerce/index.php\">Commerce</option>\\n          <option value=\"/faculties/computerscience/index.php\">Computer Science</option>\\n          <option value=\"/faculties/criminology/index.php\">Criminology</option>\\n          <option value=\"/faculties/economics/index.php\">Economics</option>\\n          <option value=\"/faculties/education/index.php\">Education</option>\\n          <option value=\"/faculties/english/index.php\">English</option>\\n          <option value=\"/faculties/foodscience/index.php\">Food Science &amp; Technology</option>\\n          <option value=\"/faculties/generalhistory/index.php\">General History</option>\\n          <option value=\"/faculties/genetics/index.php\">Genetics</option>\\n          <option value=\"/faculties/geography/index.php\">Geography</option>\\n          <option value=\"/faculties/geology/index.php\">Geology</option>\\n          <option value=\"/faculties/healthphysical/index.php\">Health &amp; Physical Education</option>\\n          <option value=\"/faculties/internationalrelations/index.php\">International Relations</option>\\n          <option value=\"/faculties/islamichistory/index.php\">Islamic History</option>\\n          <option value=\"/faculties/islamiclearning/index.php\">Islamic Learning</option>\\n          <option value=\"/faculties/libraryinformationsciences/index.php\">Library &amp; Inf. Science</option>\\n          <option value=\"/faculties/masscommunication/index.php\">Mass Communication</option>\\n          <option value=\"/faculties/mathematics/index.php\">Mathematics</option>\\n          <option value=\"/faculties/microbiology/index.php\">Microbiology</option>\\n          <option value=\"/faculties/persian/index.php\">Persian</option>\\n          <option value=\"/faculties/petroleumtechnology/index.php\">Petroleum Technology</option>\\n          <option value=\"/faculties/pharmaceuticalchemistry/index.php\">Pharmaceutical Chemistry</option>\\n          <option value=\"/faculties/pharmaceutics/index.php\">Pharmaceutics</option>\\n          <option value=\"/faculties/pharmacognosy/index.php\">Pharmacognosy</option>\\n          <option value=\"/faculties/pharmacology/index.php\">Pharmacology</option>\\n          <option value=\"/faculties/pharmacy/index.php\">Pharmacy</option>\\n          <option value=\"/faculties/philosophy/index.php\">Philosophy</option>\\n          <option value=\"/faculties/physics/index.php\">Physics</option>\\n          <option value=\"/faculties/physiology/index.php\">Physiology</option>\\n          <option value=\"/faculties/politicalscience/index.php\">Political Science</option>\\n          <option value=\"/faculties/psychology/index.php\">Psychology</option>\\n          <option value=\"/faculties/publicadministration/index.php\">Public Administration</option>\\n          <option value=\"/faculties/quranwasunnah/index.php\">Quran wa Sunnah</option>\\n          <option value=\"/faculties/researchfacility/index.php\">Research Facility Center</option>\\n          <option value=\"/faculties/law/index.php\">School of Law</option>\\n          <option value=\"/faculties/shahlatifchair/index.php\">Shah Latif Chair</option>\\n          <option value=\"/faculties/sindhi/index.php\">Sindhi</option>\\n          <option value=\"/faculties/socialwork/index.php\">Social Work</option>\\n          <option value=\"/faculties/sociology/index.php\">Sociology</option>\\n          <option value=\"/faculties/specialeducation/index.php\">Special Education</option>\\n          <option value=\"/faculties/statistics/index.php\">Statistics</option>\\n          <option value=\"/faculties/teachereducation/index.php\">Teacher Education</option>\\n          <option value=\"/faculties/urdu/index.php\">Urdu</option>\\n          <option value=\"/faculties/usooluddin/index.php\">Usool Uddin</option>\\n          <option value=\"/faculties/visualstudies/index.php\">Visual Studies</option>\\n          <option value=\"/faculties/zoology/index.php\">Zoology</option>\\n                        </select>\\n                        <input name=\"image\" type=\"image\" src=\"images/go.png\" height=\"20\" align=\"top\" />\\n                      </form>\\n                       </div>\\n                </div>\\n                \\n        <!--           <div class=\"search_course\">\\n                    <div class=\"heading_content\">\\n                        <h2>Online Payment</h2>\\n                    </div>\\n                  <div class=\"search_box_course\">\\n                    <p>Purpose of Payment</p>\\n                        <form name = \"form1\"  method=\"get\" action=\"bty.php\">\\n                        <select name=\"url\" class=\"css\" id=\"url\" >\\n                          <option value=\"/downloads/index.php\"> Download Voucher </option>\\n         \\n                              \\n                        </select>\\n                        &nbsp;&nbsp;&nbsp;&nbsp;&nbsp;&nbsp;&nbsp;&nbsp;&nbsp;&nbsp;<input name=\"image\" type=\"image\" src=\"images/go.png\" height=\"20\" align=\"top\" />\\n                      </form>\\n          <p></p>\\n          </div>\\n                </div>\\n            \\n            </div> -->\\n            \\n            \\n            \\n         <div class=\"search_course\">\\n                    <div class=\"heading_content\">\\n                        <h2>Annual Examination Info </h2>\\n                    </div>\\n                  <div class=\"search_box_course\">\\n                    <p>Registration of A.D.A ::  <a href=\"/news/2022/adpextreg.jpg\" target=\"_blank\"> Click here</a><br/>Registration of A.D.C ::  <a href=\"/news/2022/adpextreg.jpg\" target=\"_blank\"> Click here</a><br/>Registration of A.D.S :: <a href=\"/news/2022/adpextreg.jpg\" target=\"_blank\"> Click here</a>\\n          <br />\\n          </div>\\n                </div>\\n            </div> \\n            \\n            \\n            \\n            \\n           <div class=\"col_right\"><a href=\"/administration/vc.php\" target=\"_blank\"><img src=\"/images/banner-joinus-dkmi.jpg\"  width\"220\" height=\"246\" alt=\"V.C.\" /></a></div>\\n      </div>\\n        <br class=\"clear\" />\\n    </div>\\n        <div id=\"contentendouter\">\\n    <div id=\"contentend\">\\n   </div>\\n   </div>\\n</div>\\n<div id=\"outer_footer\">\\n    <div id=\"outer_footer_sec\">\\n        <div id=\"footer\">\\n            <div class=\"left_footer\">\\n                <div class=\"footer_tags\">\\n                    <ul>\\n                        <li>\\n                            <h2>About Us</h2>\\n                            <ul>\\n                                <li><a href=\"/downloads/index.php\">Downloads</a></li>\\n                                <li><a href=\"/credits.php\">MCN</a></li>\\n                                <li><a href=\"/news.php\"> News &amp; Events</a></li>\\n                                <li><a href=\"/news/pgallery.php\">Picture Gallery</a></li>\\n\\t\\t\\t\\t<li><a href=\"/news/2018/pf.pdf\" target=\"_blank\">Pension Form</a></li>\\n\\t\\t\\t\\t<li><a href=\"/semesterfees/instructions.php\" >Semester Fee</a></li>\\n\\t\\t\\t    </ul>\\n                        </li>\\n                        <li>\\n                            <h2>Quick Links</h2>\\n                            <ul>\\n                                <li><a href=\"/ac/index.php\">Affiliation Committee</a></li>\\n                                <li><a href=\"/conv/index.php\">Annual Convocation</a></li>\\n                                <li><a href=\"/administration/index.php#off\">Directorates &amp; offices</a></li>\\n                                <li><a target=\"_blank\" href=\"http://uok.rozee.pk/\">Job Portal</a></li><li>\\n                                <a href=\"/sa/index.php\">Student Advisor Office</a></li>\\n                            </ul>\\n                        </li>\\n                        <li>\\n                         <h2></h2>\\n                             <ul>                                \\n                                <li><a href=\"/dpe/index.php\">Physical Education</a></li>\\n                                <li><a href=\"/pd/tenders.php\">Tenders and Quotations</a></li>\\n                                <li><a href=\"/sfao/scholarships.php\">Scholarships</a></li>\\n\\t                        <li><a href=\"/sgcpb/contact.php\">Placements and Internships</a></li>\\n                                                       <li><a href=\"/kujs/index.php\">Karachi University Journal of Science</a></li>\\n\\t\\t\\t\\t\\t\\t\\t\\t<li><a href=\"https://www.facebook.com/uokkhi/\" target=\"_blank\">Facebook-MCN</a></li>\\n\\n                            </ul>\\n                        </li>\\n                        <li>\\n                            <h2>Web Links</h2>\\n                            <ul>\\n                            <li><a href=\"/library/dlib.php\">Digital Library </a></li>\\n                                                       <li><a target=\"_blank\" href=\"https://ukarachi.onthehub.com/WebStore/Security/SignIn.aspx\">Download Center HEC-Microsoft</a></li>\\n\\t\\t\\t    <li><a target=\"_blank\" href=\"http://www.hec.gov.pk/\">Higher Education Commission </a></li>\\n                          <li><a href=\"http://qecku.com/\" target=\"_blank\">Quality Enhancement Cell</a></li>\\n\\t\\t\\t <li><a href=\"https://kurecruits.com/\" target=\"_blank\">KURECRUITS</a></li>\\n\\t\\t\\t <li><a href=\"http://naeac.org/\" target=\"_blank\">NAEAC</a></li>                                                       \\n                            </ul>\\n                        </li>\\n                    </ul>\\n    </div>\\n                <div class=\"footer_nav\">\\n                  <p>&copy; 2011  University of Karachi<br />Use <a href=\"http://www.microsoft.com/download/en/details.aspx?id=43\" target=\"_blank\">IE-8</a> or <a href=\"http://download.cnet.com/windows/browsers/\" target=\"_blank\">above</a></p>\\n                    <ul>\\n                        <li><a href=\"/credits.php\">Credits</a></li>\\n                        <li><a href=\"/contactus.php\">Contact us</a></li>\\n                        <li><a href=\"/copyright.php\">Copyright</a></li>\\n                        <li><a href=\"/disclaimer.php\">Disclaimer</a></li>\\n                        <li><a target=\"_blank\" href=\"http://maps.google.com/maps?f=q&amp;source=embed&amp;hl=en&amp;geocode=&amp;q=karachi+university&amp;sll=37.0625,-95.677068&amp;sspn=39.320439,83.759766&amp;ie=UTF8&amp;hq=university&amp;hnear=Karachi,+Sindh,+Pakistan&amp;fll=24.942629,67.120467&amp;fspn=0.005506,0.010225&amp;st=109146043351405611748&amp;rq=1&amp;ev=p&amp;split=1&amp;ll=24.943962,67.117968&amp;spn=0.027161,0.036478&amp;z=14\">Maps</a></li>\\n                    </ul>\\n                </div>\\n            </div>\\n            <div class=\"right_footer\">\\n                <div class=\"contact_area\">\\n                    <h2>V.C. Office </h2>\\n                    <p>Inquiry Direct: 99261300-07 \\n          Ext: 2219 </p>\\n                    <p>Fax: 99261340, 99261330 (P.R.O.)</p>\\n                  <p>Email: <a href=\"mailto:vc@uok.edu.pk\">vc@uok.edu.pk</a></p>\\n                  </div>\\n               \\n            </div>\\n        </div>\\n    </div>\\n</div></body>\\n</html>'"
      ]
     },
     "execution_count": 1,
     "metadata": {},
     "output_type": "execute_result"
    }
   ],
   "source": [
    "data = open(\"uok.txt\")\n",
    "_data = data.read()\n",
    "_data"
   ]
  },
  {
   "cell_type": "code",
   "execution_count": 19,
   "id": "67cfb536",
   "metadata": {},
   "outputs": [],
   "source": [
    "import re"
   ]
  },
  {
   "cell_type": "markdown",
   "id": "5bd5053d",
   "metadata": {},
   "source": [
    "<h2 style = \"color:blue\">ul(Total unordered lists tags):</h2>"
   ]
  },
  {
   "cell_type": "code",
   "execution_count": 4,
   "id": "b557e441",
   "metadata": {},
   "outputs": [
    {
     "name": "stdout",
     "output_type": "stream",
     "text": [
      "Total <ul></ul> tags are : 17\n"
     ]
    }
   ],
   "source": [
    "ul = re.findall(r'<ul>',_data)\n",
    "print(\"Total <ul></ul> tags are :\" , len(ul))"
   ]
  },
  {
   "cell_type": "markdown",
   "id": "6be6c57a",
   "metadata": {},
   "source": [
    "<h2 style = \"color:blue\">li(Total list tags):</h2>"
   ]
  },
  {
   "cell_type": "code",
   "execution_count": 5,
   "id": "b7ed33f2",
   "metadata": {},
   "outputs": [
    {
     "name": "stdout",
     "output_type": "stream",
     "text": [
      "Total <li></li> tags are : 89\n"
     ]
    }
   ],
   "source": [
    "li = re.findall(r'<li>',_data)\n",
    "print(\"Total <li></li> tags are :\" , len(li))"
   ]
  },
  {
   "cell_type": "markdown",
   "id": "314a8328",
   "metadata": {},
   "source": [
    "<h2 style = \"color:blue\">Script tags:</h2>"
   ]
  },
  {
   "cell_type": "code",
   "execution_count": 6,
   "id": "159c43e1",
   "metadata": {},
   "outputs": [
    {
     "name": "stdout",
     "output_type": "stream",
     "text": [
      "Total <script></script> tags are : 12\n"
     ]
    }
   ],
   "source": [
    "script = re.findall(r'<script',_data)\n",
    "print(\"Total <script></script> tags are :\" , len(script))"
   ]
  },
  {
   "cell_type": "markdown",
   "id": "4155067a",
   "metadata": {},
   "source": [
    "<h2 style = \"color:blue\">Script Sources:</h2>"
   ]
  },
  {
   "cell_type": "code",
   "execution_count": 4,
   "id": "696ebf2d",
   "metadata": {},
   "outputs": [
    {
     "data": {
      "text/plain": [
       "['\"/js/jquery.js\"',\n",
       " '\"/js/cufon-yui.js\"',\n",
       " '\"/js/arial.js\"',\n",
       " '\"/js/chilli.js\"',\n",
       " '\"/js/cycle.js\"',\n",
       " '\"/js/functions.js\"',\n",
       " '\"/js/fancybox.js\"']"
      ]
     },
     "execution_count": 4,
     "metadata": {},
     "output_type": "execute_result"
    }
   ],
   "source": [
    "scriptSources = re.findall(r'src=(.*)></script>',_data)\n",
    "scriptSources"
   ]
  },
  {
   "cell_type": "markdown",
   "id": "e03561bc",
   "metadata": {},
   "source": [
    "<h2 style = \"color:blue\">a(Total anchor tags):</h2>"
   ]
  },
  {
   "cell_type": "code",
   "execution_count": 18,
   "id": "14405ef6",
   "metadata": {},
   "outputs": [
    {
     "name": "stdout",
     "output_type": "stream",
     "text": [
      "Total <a></a> tags are : 124\n"
     ]
    }
   ],
   "source": [
    "anchors = re.findall(r'<a|!\\|(.*)</a>',_data)\n",
    "print(\"Total <a></a> tags are :\" , len(anchors))"
   ]
  },
  {
   "cell_type": "markdown",
   "id": "1788cada",
   "metadata": {},
   "source": [
    "<h2 style = \"color:blue\">href(anchor links):</h2>"
   ]
  },
  {
   "cell_type": "code",
   "execution_count": 23,
   "id": "4500c79b",
   "metadata": {},
   "outputs": [
    {
     "data": {
      "text/plain": [
       "[['http://www.microsoft.com/download/en/details.aspx?id=43\\\\ '],\n",
       " ['http://download.cnet.com/windows/browsers/ '],\n",
       " ['\"/\"><'],\n",
       " ['\"https://www.google.com/a/uok.edu.pk/ServiceLogin?service=mail&amp;passive=true&amp;rm=false&amp;continue=http%3A//mail.google.com/a/uok.edu.pk/&amp;bsv=1k96igf4806cy&amp;ltmpl=default&amp;ltmplcache=2\" '],\n",
       " ['\"https://www.facebook.com/kutimes\" '],\n",
       " ['\"/credits.php\"'],\n",
       " ['\"/sitemap.php\"'],\n",
       " ['\"/contacts.php\"'],\n",
       " ['\"/search.php\"'],\n",
       " ['\"/\"'],\n",
       " ['\"/welcome-address.php\"'],\n",
       " ['\"/news.php\"'],\n",
       " ['\"/conv/index.php\"'],\n",
       " ['\"/downloads/index.php\"'],\n",
       " ['\"/our-history.php\"'],\n",
       " ['\"https://kurecruits.com/\"'],\n",
       " ['\"/admissions/index.php\"'],\n",
       " ['\"/admissions/indexeve.php#eve2020\"'],\n",
       " ['\"/admissions/indexbmeve.php#bmeve2019\"'],\n",
       " ['\"/admissions/indexbmeve.php#eve2021\"'],\n",
       " ['\"/admissions/index.php#adm2022\"'],\n",
       " ['\"/admissions/pg-index.php\"'],\n",
       " ['\"/admissions/intlstudents.php\"'],\n",
       " ['\"/faculties/\"'],\n",
       " ['\"/faculties/index.php#educ\"'],\n",
       " ['\"/faculties/index.php#engg\"'],\n",
       " ['\"/faculties/index.php#isl\"'],\n",
       " ['\"/faculties/index.php#law\"'],\n",
       " ['\"/faculties/index.php#mas\"'],\n",
       " ['\"/faculties/index.php#med\"'],\n",
       " ['\"/faculties/index.php#phm\"'],\n",
       " ['\"/faculties/index.php#sc\"'],\n",
       " ['\"/faculties/index.php#arts\"'],\n",
       " ['\"/research_institutes/index.php\"'],\n",
       " ['\"/research_institutes/index.php\"'],\n",
       " ['\"/library/index.php\"'],\n",
       " ['\"/library/index.php\"'],\n",
       " ['\"/library/dlib.php\"'],\n",
       " ['\"https://ebookcentral.proquest.com/lib/hec-ebooks/home.action\"'],\n",
       " ['\"/administration/\"'],\n",
       " ['\"/administration/vc.php\"'],\n",
       " ['\"/administration/registrar.php\"'],\n",
       " ['\"/administration/syndicate.php\"'],\n",
       " ['\"/administration/pvcs.php\"'],\n",
       " ['\"/administration/index.php#off\"'],\n",
       " ['\"/ann_results/index.php\"'],\n",
       " ['\"/ann_results/results.php\"'],\n",
       " ['\"/downloads/index.php\"'],\n",
       " ['\"/ann_results/faqs.php\"'],\n",
       " ['\"/oe/index.php\"'],\n",
       " ['\"/sem_results/index.php\"'],\n",
       " ['\"/sem_results/rules.php\"'],\n",
       " ['\"/semesterfees/instructions.php\"'],\n",
       " ['\"/alumni/index.php\"'],\n",
       " ['\"/Journal/index.php\"'],\n",
       " ['\"http://ct-set.com/\" target=\"_blank\"><'],\n",
       " ['\"https://docs.google.com/forms/d/e/1FAIpQLScMGCMcqpKGbQoHP3dWVZJvWEVv-7G2-04z9cxF3mkNWjkMrQ/viewform?usp=send_form\" target=\"_blank\"><'],\n",
       " ['\"http://genetics.uok.edu.pk/\" target=\"_blank\"><'],\n",
       " ['\"/alumni/index.php\"'],\n",
       " ['\"https://docs.google.com/forms/d/e/1FAIpQLSeWgXom46NLFeqn5KDC6DK_I6pqIdxhLLQ7h03Ke8QCz31Zlw/viewform?c=0&w=1&pli=1\"'],\n",
       " ['\"https://pk.linkedin.com/pub/university-of-karachi/b8/bbb/986\" target=\"_blank\"><'],\n",
       " ['\"https://www.facebook.com/kutimes\" target=\"_blank\"><'],\n",
       " ['\"https://twitter.com/share\" class=\"twitter-share-button\" data-via=\"infouok\"'],\n",
       " ['\"/alumni/index.php\"'],\n",
       " ['\"/semesterfees/instructions.php\"'],\n",
       " ['\"/ann_results/docs/2021/abds.pdf\" '],\n",
       " ['\"/ann_results/docs/2021/csbds.pdf\" '],\n",
       " ['\"/news/2021/fv.jpg\" '],\n",
       " ['\"/news/2021/cnkuii.jpg\" '],\n",
       " ['\"https://docs.google.com/forms/d/e/1FAIpQLSdBXpF_3-jdjW5WJtVf1jZfLT_ooTMvCXrupCLWnw9Sxbwn5g/viewform?vc=0&c=0&w=1&flr=0\" '],\n",
       " ['\"/downloads/ptdv.pdf\" '],\n",
       " ['\"/news/2022/ctset.pdf\" '],\n",
       " ['\"http://ct-set.com/\" '],\n",
       " ['\"/news/2022/ascevimcc.pdf\" '],\n",
       " ['\"/admissions/index.php#adm2022\" '],\n",
       " ['\"our-history.php\"'],\n",
       " ['\"#tab1\"'],\n",
       " ['\"#tab2\"'],\n",
       " ['\"/news/2022/bascrsch.jpg\" '],\n",
       " ['\"/news/2022/adajxvi.jpg\" '],\n",
       " ['\"/news/2022/adcjxvi.jpg\" '],\n",
       " ['\"/news/2022/rdbele.jpg\" '],\n",
       " ['\"/news.php\"'],\n",
       " ['\"https://uok.edu.pk/ann_results/results.php#y2022\" '],\n",
       " ['\"/ann_results/docs/2022/bdsipxxii.pdf\" '],\n",
       " ['\"/ann_results/docs/2022/mbbsipxxii.pdf\" '],\n",
       " ['\"/ann_results/docs/2022/mbbsiipxxii.pdf\" '],\n",
       " ['\"/ann_results/results.php\"'],\n",
       " ['\"/sem_results/results.php\"'],\n",
       " ['\"/news/2022/adpextreg.jpg\" '],\n",
       " ['\"/news/2022/adpextreg.jpg\" '],\n",
       " ['\"/news/2022/adpextreg.jpg\" '],\n",
       " ['\"/administration/vc.php\" target=\"_blank\"><'],\n",
       " ['\"/downloads/index.php\"'],\n",
       " ['\"/credits.php\"'],\n",
       " ['\"/news.php\"'],\n",
       " ['\"/news/pgallery.php\"'],\n",
       " ['\"/news/2018/pf.pdf\" '],\n",
       " ['\"/semesterfees/instructions.php\" '],\n",
       " ['\"/ac/index.php\"'],\n",
       " ['\"/conv/index.php\"'],\n",
       " ['\"/administration/index.php#off\"'],\n",
       " ['\"http://uok.rozee.pk/\"'],\n",
       " ['\"/sa/index.php\"'],\n",
       " ['\"/dpe/index.php\"'],\n",
       " ['\"/pd/tenders.php\"'],\n",
       " ['\"/sfao/scholarships.php\"'],\n",
       " ['\"/sgcpb/contact.php\"'],\n",
       " ['\"/kujs/index.php\"'],\n",
       " ['\"https://www.facebook.com/uokkhi/\" '],\n",
       " ['\"/library/dlib.php\"'],\n",
       " ['\"https://ukarachi.onthehub.com/WebStore/Security/SignIn.aspx\"'],\n",
       " ['\"http://www.hec.gov.pk/\"'],\n",
       " ['\"http://qecku.com/\" '],\n",
       " ['\"https://kurecruits.com/\" '],\n",
       " ['\"http://naeac.org/\" '],\n",
       " ['\"http://www.microsoft.com/download/en/details.aspx?id=43\" '],\n",
       " ['\"http://download.cnet.com/windows/browsers/\" '],\n",
       " ['\"/credits.php\"'],\n",
       " ['\"/contactus.php\"'],\n",
       " ['\"/copyright.php\"'],\n",
       " ['\"/disclaimer.php\"'],\n",
       " ['\"http://maps.google.com/maps?f=q&amp;source=embed&amp;hl=en&amp;geocode=&amp;q=karachi+university&amp;sll=37.0625,-95.677068&amp;sspn=39.320439,83.759766&amp;ie=UTF8&amp;hq=university&amp;hnear=Karachi,+Sindh,+Pakistan&amp;fll=24.942629,67.120467&amp;fspn=0.005506,0.010225&amp;st=109146043351405611748&amp;rq=1&amp;ev=p&amp;split=1&amp;ll=24.943962,67.117968&amp;spn=0.027161,0.036478&amp;z=14\"'],\n",
       " ['\"mailto:vc@uok.edu.pk\"']]"
      ]
     },
     "execution_count": 23,
     "metadata": {},
     "output_type": "execute_result"
    }
   ],
   "source": [
    "anchors = re.findall(r'href=(.*?)a>',_data)\n",
    "links= []\n",
    "final = []\n",
    "for i in anchors:\n",
    "    if 'img' in i:\n",
    "        links.append(re.findall('(.*?)img',i))\n",
    "    elif 'target' in i:\n",
    "        links.append(re.findall(r'(.*?)target',i))\n",
    "    elif '>' in i:\n",
    "        links.append(re.findall(r'(.*?)>',i))   \n",
    "    else:\n",
    "        links.append(i)       \n",
    "for i in links:\n",
    "    if len(i)==2:\n",
    "        i.remove(i[1])\n",
    "    elif len(i)==3:\n",
    "        i.remove(i[2])\n",
    "        i.remove(i[1])           \n",
    "    else:\n",
    "        pass\n",
    "links    "
   ]
  },
  {
   "cell_type": "markdown",
   "id": "3f46db71",
   "metadata": {},
   "source": [
    "<h2 style = \"color:blue\">div(divisions tag):</h2>"
   ]
  },
  {
   "cell_type": "code",
   "execution_count": 21,
   "id": "98f60d49",
   "metadata": {},
   "outputs": [
    {
     "name": "stdout",
     "output_type": "stream",
     "text": [
      "Total <div></div> tags are : 56\n"
     ]
    }
   ],
   "source": [
    "division = re.findall('<div',_data)\n",
    "print(\"Total <div></div> tags are :\" , len(division))"
   ]
  },
  {
   "cell_type": "markdown",
   "id": "8adecf8a",
   "metadata": {},
   "source": [
    "<h2 style = \"color:blue\">IDs in div tag:</h2>"
   ]
  },
  {
   "cell_type": "code",
   "execution_count": 37,
   "id": "5f8bd609",
   "metadata": {},
   "outputs": [
    {
     "data": {
      "text/plain": [
       "['\"outer_header\"',\n",
       " '\"header\"',\n",
       " '\"right_header\"',\n",
       " '\"nav\"',\n",
       " '\"outer_banner\"',\n",
       " '\"outer_banner_second\"',\n",
       " '\"banner\"',\n",
       " '\"banner_wrapp\"',\n",
       " '\"banner_slider\"',\n",
       " '\"banner_images\"',\n",
       " '\"pager\"',\n",
       " '\"typo\"',\n",
       " '\"outer_news\"',\n",
       " '\"news_scroller\"',\n",
       " '\"outer_content\"',\n",
       " '\"content\"',\n",
       " '\"contentendouter\"',\n",
       " '\"contentend\"',\n",
       " '\"outer_footer\"',\n",
       " '\"outer_footer_sec\"',\n",
       " '\"footer\"']"
      ]
     },
     "execution_count": 37,
     "metadata": {},
     "output_type": "execute_result"
    }
   ],
   "source": [
    "ids = re.findall('<div id=(.*?)>',_data)\n",
    "ids"
   ]
  },
  {
   "cell_type": "markdown",
   "id": "4a860042",
   "metadata": {},
   "source": [
    "<h2 style = \"color:blue\">Classes in div tag:</h2>"
   ]
  },
  {
   "cell_type": "code",
   "execution_count": 24,
   "id": "c995d2b7",
   "metadata": {},
   "outputs": [
    {
     "data": {
      "text/plain": [
       "['\"top_nav\"',\n",
       " '\"search\"',\n",
       " '\"news_box\"',\n",
       " '\"news_scroll\"',\n",
       " '\"latest_courses\"',\n",
       " '\"text_course\"',\n",
       " '\"col_home\"',\n",
       " '\"col_left\"',\n",
       " '\"nav_news\"',\n",
       " '\"content_news\" id=\"tab1\"',\n",
       " '\"news_desc\"',\n",
       " '\"news_desc\"',\n",
       " '\"news_desc\"',\n",
       " '\"more_links\"',\n",
       " '\"content_news\" id=\"tab2\"',\n",
       " '\"news_desc\"',\n",
       " '\"news_desc\"',\n",
       " '\"news_desc\"',\n",
       " '\"more_links\"',\n",
       " '\"col_middle\"',\n",
       " '\"search_course\"',\n",
       " '\"heading_content\"',\n",
       " '\"search_box_course\"',\n",
       " '\"search_course\"',\n",
       " '\"heading_content\"',\n",
       " '\"search_box_course\"',\n",
       " '\"search_course\"',\n",
       " '\"heading_content\"',\n",
       " '\"search_box_course\"',\n",
       " '\"col_right\"',\n",
       " '\"left_footer\"',\n",
       " '\"footer_tags\"',\n",
       " '\"footer_nav\"',\n",
       " '\"right_footer\"',\n",
       " '\"contact_area\"']"
      ]
     },
     "execution_count": 24,
     "metadata": {},
     "output_type": "execute_result"
    }
   ],
   "source": [
    "classes= re.findall('<div class=(.*?)>',_data)\n",
    "classes"
   ]
  },
  {
   "cell_type": "markdown",
   "id": "3f82515c",
   "metadata": {},
   "source": [
    "<h2 style = \"color:blue\">IDs in div tag:</h2>"
   ]
  },
  {
   "cell_type": "code",
   "execution_count": 38,
   "id": "ae59ffae",
   "metadata": {},
   "outputs": [
    {
     "data": {
      "text/plain": [
       "['\"outer_header\"',\n",
       " '\"header\"',\n",
       " '\"right_header\"',\n",
       " '\"nav\"',\n",
       " '\"outer_banner\"',\n",
       " '\"outer_banner_second\"',\n",
       " '\"banner\"',\n",
       " '\"banner_wrapp\"',\n",
       " '\"banner_slider\"',\n",
       " '\"banner_images\"',\n",
       " '\"pager\"',\n",
       " '\"typo\"',\n",
       " '\"outer_news\"',\n",
       " '\"news_scroller\"',\n",
       " '\"outer_content\"',\n",
       " '\"content\"',\n",
       " '\"contentendouter\"',\n",
       " '\"contentend\"',\n",
       " '\"outer_footer\"',\n",
       " '\"outer_footer_sec\"',\n",
       " '\"footer\"']"
      ]
     },
     "execution_count": 38,
     "metadata": {},
     "output_type": "execute_result"
    }
   ],
   "source": [
    "ids = re.findall('<div id=(.*?)>',_data)\n",
    "ids"
   ]
  },
  {
   "cell_type": "markdown",
   "id": "1ed7c671",
   "metadata": {},
   "source": [
    "<h2 style = \"color:blue\">Heading tags:</h2>"
   ]
  },
  {
   "cell_type": "code",
   "execution_count": 40,
   "id": "3b57bc4e",
   "metadata": {},
   "outputs": [
    {
     "name": "stdout",
     "output_type": "stream",
     "text": [
      "there are  10  heading2 tags\n",
      "there are  7  heading3 tags\n"
     ]
    }
   ],
   "source": [
    "heading2 = re.findall(r'<h2',_data)\n",
    "print(\"there are \",len(heading2),\" heading2 tags\")\n",
    "heading3 = re.findall(r'<h3',_data)\n",
    "print(\"there are \",len(heading3),\" heading3 tags\")"
   ]
  },
  {
   "cell_type": "code",
   "execution_count": 41,
   "id": "4406f697",
   "metadata": {},
   "outputs": [
    {
     "data": {
      "text/plain": [
       "['Call: (9221) 9926 1300-7',\n",
       " 'Welcome',\n",
       " 'Departments',\n",
       " 'Online Payment',\n",
       " 'Annual Examination Info ',\n",
       " 'About Us',\n",
       " 'Quick Links',\n",
       " '',\n",
       " 'Web Links',\n",
       " 'V.C. Office ']"
      ]
     },
     "execution_count": 41,
     "metadata": {},
     "output_type": "execute_result"
    }
   ],
   "source": [
    "heading2 = re.findall(r'<h2>(.*?)</h2>',_data)\n",
    "heading2"
   ]
  },
  {
   "cell_type": "code",
   "execution_count": 42,
   "id": "6c8e525e",
   "metadata": {},
   "outputs": [
    {
     "data": {
      "text/plain": [
       "['Latest',\n",
       " 'New Schedule of Postponed Papers',\n",
       " 'Associate Degree Annual Fee 2021',\n",
       " 'Revised Schedule (Bye-Election)',\n",
       " 'M.A Annual Exams 2019-2020',\n",
       " 'BDS Annual Examination 2022',\n",
       " 'MBBS Annual Examination 2022']"
      ]
     },
     "execution_count": 42,
     "metadata": {},
     "output_type": "execute_result"
    }
   ],
   "source": [
    "head3 = re.findall(r'<h3>(.*?)</h3>',_data)\n",
    "heading3 = []\n",
    "for i in head3:\n",
    "    if (\"<strong>\" or \"</strong>\") in i:\n",
    "        x = re.sub(r'<strong>|</strong>','',i)\n",
    "        heading3.append(x)\n",
    "    else:\n",
    "        heading3.append(i)\n",
    "heading3        "
   ]
  },
  {
   "cell_type": "markdown",
   "id": "a0553bcb",
   "metadata": {},
   "source": [
    "<h2 style = \"color:blue\">span(inline tag):</h2>"
   ]
  },
  {
   "cell_type": "code",
   "execution_count": 45,
   "id": "e65ae70a",
   "metadata": {},
   "outputs": [
    {
     "name": "stdout",
     "output_type": "stream",
     "text": [
      "there are  20  span tags\n"
     ]
    }
   ],
   "source": [
    "total_span = re.findall(\"<span(.*?)\",_data)\n",
    "print(\"there are \",len(total_span),\" span tags\")\n"
   ]
  },
  {
   "cell_type": "markdown",
   "id": "87e9c22a",
   "metadata": {},
   "source": [
    "`<h2 style = \"color:blue\">img tags and src: </h2>"
   ]
  },
  {
   "cell_type": "code",
   "execution_count": 47,
   "id": "c0baa89a",
   "metadata": {},
   "outputs": [
    {
     "name": "stdout",
     "output_type": "stream",
     "text": [
      "there are  12  img tags\n"
     ]
    },
    {
     "data": {
      "text/plain": [
       "['\"/images/logo.png\" ',\n",
       " '\"images/kmiannconxix.jpg\" ',\n",
       " '\"images/banner-sjgate.jpg\" ',\n",
       " '\"images/ctsetbanner.jpg\" ',\n",
       " '\"images/banner-oh.jpg\" ',\n",
       " '\"images/banner4-o.jpg\" ',\n",
       " '\"images/bannerishu.jpg\" ',\n",
       " '\"images/banner4.jpg\" ',\n",
       " '\"images/ppl3.jpg\" ',\n",
       " '\"https://static.licdn.com/scds/common/u/img/webpromo/btn_in_20x15.png\" ',\n",
       " '\"alumni/fbt1.jpg\" ',\n",
       " '\"/images/banner-joinus-dkmi.jpg\"  ']"
      ]
     },
     "execution_count": 47,
     "metadata": {},
     "output_type": "execute_result"
    }
   ],
   "source": [
    "images = re.findall(\"<img src=(.*)>\",_data)\n",
    "images1 = []\n",
    "for i in images:\n",
    "    if \"src=\" in i:\n",
    "        new0 = re.sub(r'alt(.*)|width(.*)|height(.*)','',i)\n",
    "        images1.append(new0)\n",
    "        new = re.findall(\"src=(.*?)alt\",i)\n",
    "        for j in new:\n",
    "            images1.append(j)\n",
    "    else:\n",
    "        images1.append(re.sub(r'alt(.*)|width(.*)|height(.*)','',i))\n",
    "print(\"there are \",len(images1),\" img tags\")\n",
    "images1    \n"
   ]
  },
  {
   "cell_type": "code",
   "execution_count": null,
   "id": "e5a51820",
   "metadata": {},
   "outputs": [],
   "source": []
  }
 ],
 "metadata": {
  "kernelspec": {
   "display_name": "Python 3 (ipykernel)",
   "language": "python",
   "name": "python3"
  },
  "language_info": {
   "codemirror_mode": {
    "name": "ipython",
    "version": 3
   },
   "file_extension": ".py",
   "mimetype": "text/x-python",
   "name": "python",
   "nbconvert_exporter": "python",
   "pygments_lexer": "ipython3",
   "version": "3.9.12"
  }
 },
 "nbformat": 4,
 "nbformat_minor": 5
}
