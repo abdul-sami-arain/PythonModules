{
 "cells": [
  {
   "cell_type": "code",
   "execution_count": 4,
   "id": "312fc24e",
   "metadata": {},
   "outputs": [],
   "source": [
    "data = open(\"batch_3.txt\")\n",
    "data_ = data.read()"
   ]
  },
  {
   "cell_type": "code",
   "execution_count": 5,
   "id": "2b2bd711",
   "metadata": {},
   "outputs": [
    {
     "data": {
      "text/plain": [
       "\"09:03:08 From Syed Jawad [PIAIC185558] To Everyone : assalam wa alikum\\n09:03:14 From Mustafa Mufti To Everyone : Theek thaak sir, thank you\\n09:03:16 From Syed Jawad [PIAIC185558] To Everyone : alhamdulliah how r u?\\n09:03:17 From Rao Arslan To Everyone : Muhammad Arslan [PIAIC-126354]\\n09:03:20 From Mustafa Mufti To Everyone : Nahi sir all good\\n09:03:31 From Aisha Siddiqua PIAIC 181221 To Everyone : alhamdulillah\\n09:03:56 From Kabeer Rajput To Everyone : Muhammad Abdul Kabeer Rajput - PIAIC 133488\\n09:04:09 From Syed Jawad [PIAIC185558] To Everyone : %\\n09:04:33 From ABDUL BASIT To Everyone : Abdul basitPIAIC59115\\n09:04:54 From Gulshan Ali To Everyone : Gulshan Ali PIAIC176719\\n09:05:03 From Nabeel SHAHAB  (PIAIC185213) To Everyone : have we been asked to share our roll numbers for attendance ?\\n09:05:18 From Usman Noor PIAIC-188401 To Everyone : USMAN NOOR PIAIC188401\\n09:05:19 From Afrooz Alam (PIAIC89531) To Everyone : Afrooz Alam PIAIC89531\\n09:05:25 From Mohammad Javed To Everyone : no sir\\n09:05:55 From NASRULLAH (PIAIC180162) To Everyone : Nasrullah (PIAIC 180162)\\n09:06:14 From Mohammad Javed To Everyone : Mohammad Javed PIAIC 185754\\n09:06:26 From Mohammad Javed To Everyone : Salam to everyone\\n09:06:45 From Muhammed Shahid To Everyone : PIAIC134239 Muhammed Shahid\\n09:06:48 From junaid ali To Everyone : PIAIC174125\\nJunaid Ali Bhatti\\n09:06:48 From Moattar Khanum(PIAIC170982) To Everyone : Moattar Khanum(PIAIC170982)\\n09:07:11 From Mashal Zahra To Everyone : Mashal Zahra - PIAIC 440190\\n09:07:25 From Salahuddin PIAIC 109457 To Everyone : 109457\\n09:07:35 From Muhammad Sadullah - PIAIC178950 To Everyone : Muhammad Sadullah - PIAIC178950\\n09:07:47 From Muhammad Adrees To Everyone : sure sir.\\n09:07:47 From Aneeq To Everyone : PIAIC172924 Aneeq Ahmad\\n09:07:55 From PIAIC55300 : Zeeshan Asim To Everyone : Zeeshan Asim Khan, PIAIC55300\\n09:07:59 From Muhammad Mehroz To Everyone : Muhammad Mehroz\\nPIAIC131496\\n09:08:06 From Dr. Bhagwan Das To Everyone : Bhagwan Das\\nPIAIC96879\\n09:08:19 From Nabeel SHAHAB  (PIAIC185213) To Everyone : Syed Nabeel Shahab PIAIC185213\\n09:08:28 From Mohammad Javed To Everyone : yes sir light issue hay\\n09:08:34 From A.Rahman PIAIC150034 To Everyone : ABDUL RAHMAN PIAIC-150034\\n09:08:51 From Amna Liaqat PIAIC 133452 To AI2 PIAIC(Privately) : Asslamualykum,\\nCan I be excused from today's class? I am not feeling well.\\n09:09:00 From Mohammad Javed To Everyone : yes sir same I did last week\\n09:09:15 From Farhan (PIAIC186218) To Everyone : FARHAN PIAIC186218\\n09:09:20 From Sehrish Fatima-PIAIC174229 To Everyone : Sehrish Fatima-PIAIC174229\\n09:09:30 From Aftab Sukhera To Everyone : PIAIC56511 MUHAMMAD AFTAB HAYAT\\n09:10:02 From Amna Liaqat PIAIC 133452 To Everyone : Amna Liaqat (PIAIC133452)\\n09:10:09 From PIAIC189427 {Muhammad Faizan] To Everyone : Sir can you please share that file\\n09:10:11 From PIAIC189427 {Muhammad Faizan] To Everyone : of last class\\n09:10:12 From Nabeel SHAHAB  (PIAIC185213) To Everyone : sir: there is some background noise coming . kindly check\\n09:10:14 From Abdul Saboor Zaman PIAIC189261 To Everyone : Abdul Saboor Zaman PIAIC189261\\n09:10:22 From PIAIC189427 {Muhammad Faizan] To Everyone : Sir can you please share that file of last class?\\n09:10:32 From Imran Ahmed To Everyone : Imran  Ahmed PIAIC95846\\n09:10:41 From PIAIC189427 {Muhammad Faizan] To Everyone : Sir can you please share that file of last class?\\n09:10:54 From Syed Jawad [PIAIC185558] To Everyone : no sir clear h\\n09:10:56 From Syed Jawad [PIAIC185558] To Everyone : voice\\n09:11:02 From Syed PIAIC168703 To Everyone : sounds clear now\\n09:11:03 From Syed Daud Ali Naqvi To Everyone : clear ha\\n09:11:04 From fozia shareen To Everyone : PIAIC165097 Fozia shareen\\n09:11:07 From PIAIC173701 Taqwa Khaliq To Everyone : PIAIC173701 Taqwa Khaliq\\n09:11:14 From Amna Liaqat PIAIC 133452 To AI2 PIAIC(Privately) : Asslamualykum,\\nCan I be excused from today's class? I am not feeling well.\\nAmna Liaqat (PIAIC133452)\\n09:11:23 From Mashal Zahra To Everyone : Mashal Zahra - PIAIC178751\\n09:11:43 From Salman Nayyer To Everyone : PIAIC 180996 SALMAN NAYYER\\n09:12:01 From PIAIC149101 sana To Everyone : PIAIC149101 SANA NOUSHEEN\\n09:12:02 From HAFIZ SAAD ULLAH #1041 To Everyone : Hafiz Saad Ullah---PIAIC174000\\n09:12:53 From NomanSaleemkhan To Everyone : Noman Saleem Khan PIAIC1\""
      ]
     },
     "execution_count": 5,
     "metadata": {},
     "output_type": "execute_result"
    }
   ],
   "source": [
    "data_"
   ]
  },
  {
   "cell_type": "code",
   "execution_count": 6,
   "id": "a195761f",
   "metadata": {},
   "outputs": [],
   "source": [
    "import re"
   ]
  },
  {
   "cell_type": "code",
   "execution_count": 18,
   "id": "04591548",
   "metadata": {},
   "outputs": [
    {
     "data": {
      "text/plain": [
       "['From Syed Jawad [PIAIC185558] To',\n",
       " 'From Mustafa Mufti To',\n",
       " 'From Rao Arslan To',\n",
       " 'From Aisha Siddiqua PIAIC 181221 To',\n",
       " 'From Kabeer Rajput To',\n",
       " 'From ABDUL BASIT To',\n",
       " 'From Gulshan Ali To',\n",
       " 'From Mohammad Javed To',\n",
       " 'From Muhammed Shahid To',\n",
       " 'From junaid ali To',\n",
       " 'From Mashal Zahra To',\n",
       " 'From Salahuddin PIAIC 109457 To',\n",
       " 'From Muhammad Adrees To',\n",
       " 'From Aneeq To',\n",
       " 'From Muhammad Mehroz To',\n",
       " 'From Amna Liaqat PIAIC 133452 To',\n",
       " 'From Aftab Sukhera To',\n",
       " 'From PIAIC189427 {Muhammad Faizan] To',\n",
       " 'From Abdul Saboor Zaman PIAIC189261 To',\n",
       " 'From Imran Ahmed To',\n",
       " 'From Syed PIAIC168703 To',\n",
       " 'From Syed Daud Ali Naqvi To',\n",
       " 'From fozia shareen To',\n",
       " 'From PIAIC173701 Taqwa Khaliq To',\n",
       " 'From Salman Nayyer To',\n",
       " 'From PIAIC149101 sana To',\n",
       " 'From NomanSaleemkhan To']"
      ]
     },
     "execution_count": 18,
     "metadata": {},
     "output_type": "execute_result"
    }
   ],
   "source": [
    "names = re.findall(\"From[ A-z0-9{}]+To\",data_)\n",
    "names = list(dict.fromkeys(names))\n",
    "names"
   ]
  },
  {
   "cell_type": "code",
   "execution_count": 71,
   "id": "bf6b22a6",
   "metadata": {},
   "outputs": [
    {
     "data": {
      "text/plain": [
       "['SyedJawad',\n",
       " 'MustafaMufti',\n",
       " 'RaoArslan',\n",
       " 'AishaSiddiqua',\n",
       " 'KabeerRajput',\n",
       " 'ABDULBASIT',\n",
       " 'GulshanAli',\n",
       " 'MohammadJaved',\n",
       " 'MuhammedShahid',\n",
       " 'junaidali',\n",
       " 'MashalZahra',\n",
       " 'Salahuddin',\n",
       " 'MuhammadAdrees',\n",
       " 'Aneeq',\n",
       " 'MuhammadMehroz',\n",
       " 'AmnaLiaqat',\n",
       " 'AftabSukhera',\n",
       " 'MuhammadFaizan',\n",
       " 'AbdulSaboorZaman',\n",
       " 'ImranAhmed',\n",
       " 'Syed',\n",
       " 'SyedDaudAliNaqvi',\n",
       " 'foziashareen',\n",
       " 'TaqwaKhaliq',\n",
       " 'SalmanNayyer',\n",
       " 'sana',\n",
       " 'NomanSaleemkhan']"
      ]
     },
     "execution_count": 71,
     "metadata": {},
     "output_type": "execute_result"
    }
   ],
   "source": [
    "finalNames = []\n",
    "for i in names:\n",
    "    names1 = re.sub(\"From|To|PIAIC|\\[|\\]|}|{|[\\d+]| \",\"\",i)\n",
    "    finalNames.append(names1)\n",
    "finalNames"
   ]
  },
  {
   "cell_type": "code",
   "execution_count": 76,
   "id": "bb77bd6d",
   "metadata": {},
   "outputs": [
    {
     "data": {
      "text/plain": [
       "['PIAIC185558',\n",
       " 'PIAIC59115',\n",
       " 'PIAIC176719',\n",
       " 'PIAIC185213',\n",
       " 'PIAIC188401',\n",
       " 'PIAIC89531',\n",
       " 'PIAIC180162',\n",
       " 'PIAIC134239',\n",
       " 'PIAIC174125',\n",
       " 'PIAIC170982',\n",
       " 'PIAIC178950',\n",
       " 'PIAIC172924',\n",
       " 'PIAIC55300',\n",
       " 'PIAIC131496',\n",
       " 'PIAIC96879',\n",
       " 'PIAIC150034',\n",
       " 'PIAIC186218',\n",
       " 'PIAIC174229',\n",
       " 'PIAIC56511',\n",
       " 'PIAIC133452',\n",
       " 'PIAIC189427',\n",
       " 'PIAIC189261',\n",
       " 'PIAIC95846',\n",
       " 'PIAIC168703',\n",
       " 'PIAIC165097',\n",
       " 'PIAIC173701',\n",
       " 'PIAIC178751',\n",
       " 'PIAIC149101',\n",
       " 'PIAIC174000']"
      ]
     },
     "execution_count": 76,
     "metadata": {},
     "output_type": "execute_result"
    }
   ],
   "source": [
    "roll_ = re.findall(\"PIAIC[0-9]{5,6}\",data_)\n",
    "roll_ = list(dict.fromkeys(roll_))\n",
    "roll_"
   ]
  },
  {
   "cell_type": "code",
   "execution_count": null,
   "id": "48e9599f",
   "metadata": {},
   "outputs": [],
   "source": []
  }
 ],
 "metadata": {
  "kernelspec": {
   "display_name": "Python 3 (ipykernel)",
   "language": "python",
   "name": "python3"
  },
  "language_info": {
   "codemirror_mode": {
    "name": "ipython",
    "version": 3
   },
   "file_extension": ".py",
   "mimetype": "text/x-python",
   "name": "python",
   "nbconvert_exporter": "python",
   "pygments_lexer": "ipython3",
   "version": "3.9.12"
  }
 },
 "nbformat": 4,
 "nbformat_minor": 5
}
